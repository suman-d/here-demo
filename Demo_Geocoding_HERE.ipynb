{
 "cells": [
  {
   "cell_type": "markdown",
   "metadata": {},
   "source": [
    "# Geocoding\n",
    "\n",
    "Geocoding is the process of getting coordinates (latitude, longitude) for a street address or landmark.  You can also do the reverse and get a street address for a given set of coordinates.  In order to accomplish this task you need an up to date system of record to map back and forth which is something the [HERE Geocoder API](https://developer.here.com/documentation/geocoder/topics/what-is.html) can provide.\n",
    "\n",
    "We'll look at a few common libraries that can be used for geocoding operations:\n",
    "* `requests`\n",
    "* `geopy`\n",
    "* `geocoder`\n",
    "* `geopandas`\n",
    "* `herepy`\n",
    "\n",
    "After looking at a few more variations you can experiment with a few example projects.\n",
    "\n",
    "* Analyzing Image Metadata\n",
    "* Analyzing Text"
   ]
  },
  {
   "cell_type": "markdown",
   "metadata": {},
   "source": [
    "# Credentials\n",
    "\n",
    "Access control for HERE services uses an APP_ID and APP_CODE that can be retrieved from the [Developer Portal](https://developer.here.com/projects) for your project.  I like to store these as environment variables."
   ]
  },
  {
   "cell_type": "code",
   "execution_count": null,
   "metadata": {},
   "outputs": [],
   "source": [
    "import os\n",
    "\n",
    "APP_ID_HERE = os.environ['APP_ID_HERE']\n",
    "APP_CODE_HERE = os.environ['APP_CODE_HERE']"
   ]
  },
  {
   "cell_type": "code",
   "execution_count": null,
   "metadata": {},
   "outputs": [],
   "source": [
    "TEST_ADDRESS = 'SNN Raj Serenity-Entrance 1, Begur-Koppa Road, Bengaluru 560068'"
   ]
  },
  {
   "cell_type": "markdown",
   "metadata": {},
   "source": [
    "# Popular Python Libraries for Geocoding"
   ]
  },
  {
   "cell_type": "markdown",
   "metadata": {},
   "source": [
    "## Requests\n",
    "\n",
    "Simple example of making an HTTP call with the **requests** library to retrieve a street address."
   ]
  },
  {
   "cell_type": "code",
   "execution_count": null,
   "metadata": {},
   "outputs": [],
   "source": [
    "import json\n",
    "import requests\n",
    "\n",
    "uri = 'https://geocoder.api.here.com/6.2/geocode.json'\n",
    "params = {\n",
    "    'app_id': APP_ID_HERE,\n",
    "    'app_code': APP_CODE_HERE,\n",
    "    'searchtext': TEST_ADDRESS,\n",
    "}\n",
    "\n",
    "response = requests.get(uri, params=params)\n",
    "data = json.loads(response.text)\n",
    "print(json.dumps(data, indent=4, sort_keys=True))"
   ]
  },
  {
   "cell_type": "markdown",
   "metadata": {},
   "source": [
    "## Geopy\n",
    "\n",
    "A client to consider instead of direct `requests` is `geopy`.  It includes classes for multiple geocoder services including HERE.\n",
    "\n",
    "https://pypi.org/project/geopy/"
   ]
  },
  {
   "cell_type": "code",
   "execution_count": null,
   "metadata": {},
   "outputs": [],
   "source": [
    "from geopy.geocoders import Here\n",
    "\n",
    "geocoder = Here(APP_ID_HERE, APP_CODE_HERE)\n",
    "result = geocoder.geocode(TEST_ADDRESS)\n",
    "result.point"
   ]
  },
  {
   "cell_type": "code",
   "execution_count": null,
   "metadata": {},
   "outputs": [],
   "source": [
    "result.raw"
   ]
  },
  {
   "cell_type": "markdown",
   "metadata": {},
   "source": [
    "## Geocoder\n",
    "\n",
    "Another library to consider is `geocoder`.\n",
    "\n",
    "https://geocoder.readthedocs.io/"
   ]
  },
  {
   "cell_type": "code",
   "execution_count": null,
   "metadata": {},
   "outputs": [],
   "source": [
    "import geocoder\n",
    "\n",
    "result = geocoder.here(TEST_ADDRESS, app_id=APP_ID_HERE, app_code=APP_CODE_HERE)\n",
    "result.latlng"
   ]
  },
  {
   "cell_type": "markdown",
   "metadata": {},
   "source": [
    "## GeoPandas\n",
    "\n",
    "GeoPandas is another powerful library that provides geocoding methods.\n",
    "\n",
    "http://geopandas.org/geocoding.html"
   ]
  },
  {
   "cell_type": "code",
   "execution_count": null,
   "metadata": {},
   "outputs": [],
   "source": [
    "import geopandas\n",
    "\n",
    "result = geopandas.tools.geocode(TEST_ADDRESS, provider='Here', app_id=APP_ID_HERE, app_code=APP_CODE_HERE)\n",
    "result"
   ]
  },
  {
   "cell_type": "markdown",
   "metadata": {},
   "source": [
    "## HEREpy\n",
    "\n",
    "This library provides a pure Python interface for the HERE API. \n",
    "\n",
    "https://pypi.org/project/herepy/ \n"
   ]
  },
  {
   "cell_type": "code",
   "execution_count": null,
   "metadata": {},
   "outputs": [],
   "source": [
    "import herepy\n",
    "from pprint import pprint as pp\n",
    "\n",
    "geocoderApi = herepy.GeocoderApi(APP_ID_HERE, APP_CODE_HERE)"
   ]
  },
  {
   "cell_type": "code",
   "execution_count": null,
   "metadata": {},
   "outputs": [],
   "source": [
    "response = geocoderApi.free_form(TEST_ADDRESS)"
   ]
  },
  {
   "cell_type": "code",
   "execution_count": null,
   "metadata": {},
   "outputs": [],
   "source": [
    "data = response.as_dict()"
   ]
  },
  {
   "cell_type": "code",
   "execution_count": null,
   "metadata": {},
   "outputs": [],
   "source": [
    "pp(data)"
   ]
  },
  {
   "cell_type": "code",
   "execution_count": null,
   "metadata": {},
   "outputs": [],
   "source": []
  }
 ],
 "metadata": {
  "kernelspec": {
   "display_name": "Python 3",
   "language": "python",
   "name": "python3"
  },
  "language_info": {
   "codemirror_mode": {
    "name": "ipython",
    "version": 3
   },
   "file_extension": ".py",
   "mimetype": "text/x-python",
   "name": "python",
   "nbconvert_exporter": "python",
   "pygments_lexer": "ipython3",
   "version": "3.7.0"
  }
 },
 "nbformat": 4,
 "nbformat_minor": 2
}
